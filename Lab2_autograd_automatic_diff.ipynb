{
  "nbformat": 4,
  "nbformat_minor": 0,
  "metadata": {
    "kernelspec": {
      "name": "python3",
      "display_name": "Python 3"
    },
    "language_info": {
      "codemirror_mode": {
        "name": "ipython",
        "version": 3
      },
      "file_extension": ".py",
      "mimetype": "text/x-python",
      "name": "python",
      "nbconvert_exporter": "python",
      "pygments_lexer": "ipython3",
      "version": "3.7.3"
    },
    "colab": {
      "name": "DSTI_Labs2_2019.ipynb",
      "provenance": [],
      "collapsed_sections": [],
      "toc_visible": true
    }
  },
  "cells": [
    {
      "cell_type": "markdown",
      "metadata": {
        "id": "Zt3nY3xZgC-Q",
        "colab_type": "text"
      },
      "source": [
        "# Autograd: automatic differentiation\n",
        "\n",
        "When executing tensor operations, PyTorch can automatically construct on-the-fly the graph of operations to compute the gradient of any quantity with respect to any tensor involved.\n",
        "\n",
        "More information on autotomatic differentiation in Pytorch [here](https://pytorch.org/tutorials/beginner/blitz/autograd_tutorial.html#sphx-glr-beginner-blitz-autograd-tutorial-py)"
      ]
    },
    {
      "cell_type": "markdown",
      "metadata": {
        "id": "FznlXGW9NvPq",
        "colab_type": "text"
      },
      "source": [
        "## Visualizing the computational graph"
      ]
    },
    {
      "cell_type": "code",
      "metadata": {
        "id": "Hh6cps5cgC9g",
        "colab_type": "code",
        "colab": {}
      },
      "source": [
        "import matplotlib.pyplot as plt\n",
        "%matplotlib inline\n",
        "import torch"
      ],
      "execution_count": 0,
      "outputs": []
    },
    {
      "cell_type": "markdown",
      "metadata": {
        "id": "UUvKk98Snblr",
        "colab_type": "text"
      },
      "source": [
        "PyTorchViz is a small package to create visualizations of PyTorch execution graphs and traces."
      ]
    },
    {
      "cell_type": "code",
      "metadata": {
        "id": "_V6Sd1VEnKxQ",
        "colab_type": "code",
        "outputId": "3875e959-cb28-43df-e7ab-38c949990421",
        "colab": {
          "base_uri": "https://localhost:8080/",
          "height": 258
        }
      },
      "source": [
        "!pip install torchviz\n"
      ],
      "execution_count": 2,
      "outputs": [
        {
          "output_type": "stream",
          "text": [
            "Collecting torchviz\n",
            "\u001b[?25l  Downloading https://files.pythonhosted.org/packages/8f/8e/a9630c7786b846d08b47714dd363a051f5e37b4ea0e534460d8cdfc1644b/torchviz-0.0.1.tar.gz (41kB)\n",
            "\u001b[K     |████████████████████████████████| 51kB 3.9MB/s \n",
            "\u001b[?25hRequirement already satisfied: torch in /usr/local/lib/python3.6/dist-packages (from torchviz) (1.2.0)\n",
            "Requirement already satisfied: graphviz in /usr/local/lib/python3.6/dist-packages (from torchviz) (0.10.1)\n",
            "Requirement already satisfied: numpy in /usr/local/lib/python3.6/dist-packages (from torch->torchviz) (1.16.5)\n",
            "Building wheels for collected packages: torchviz\n",
            "  Building wheel for torchviz (setup.py) ... \u001b[?25l\u001b[?25hdone\n",
            "  Created wheel for torchviz: filename=torchviz-0.0.1-cp36-none-any.whl size=3520 sha256=f182af2658d4e556a58176052dda44a02f64f7dc4d5b5c32a14e5fbb82da2caf\n",
            "  Stored in directory: /root/.cache/pip/wheels/2a/c2/c5/b8b4d0f7992c735f6db5bfa3c5f354cf36502037ca2b585667\n",
            "Successfully built torchviz\n",
            "Installing collected packages: torchviz\n",
            "Successfully installed torchviz-0.0.1\n"
          ],
          "name": "stdout"
        }
      ]
    },
    {
      "cell_type": "code",
      "metadata": {
        "id": "Htgg-1C1ChI1",
        "colab_type": "code",
        "colab": {}
      },
      "source": [
        "import torchviz"
      ],
      "execution_count": 0,
      "outputs": []
    },
    {
      "cell_type": "markdown",
      "metadata": {
        "id": "wYsJ94KYrquH",
        "colab_type": "text"
      },
      "source": [
        "Inn order to enable automatic differentiation, PyTorch keeps track of all operations involving tensors for which the gradient may need to be computed (i.e., require_grad is True). The operations are recorded as a directed graph. \n",
        "\n",
        "Torch tensors are recalled [here](https://pytorch.org/docs/stable/tensors.html) \n",
        "\n"
      ]
    },
    {
      "cell_type": "code",
      "metadata": {
        "colab_type": "code",
        "outputId": "94ad8ae0-3401-49d8-ec67-4a0a2a693a51",
        "id": "xJQfkBHxsPLF",
        "colab": {
          "base_uri": "https://localhost:8080/",
          "height": 51
        }
      },
      "source": [
        "x = torch.ones(2, 2)\n",
        "print(x)"
      ],
      "execution_count": 31,
      "outputs": [
        {
          "output_type": "stream",
          "text": [
            "tensor([[1., 1.],\n",
            "        [1., 1.]])\n"
          ],
          "name": "stdout"
        }
      ]
    },
    {
      "cell_type": "markdown",
      "metadata": {
        "id": "onirJsB5gC-R",
        "colab_type": "text"
      },
      "source": [
        "A Tensor has a Boolean field *requires_grad*, set to False by default, which states if PyTorch should build the graph of operations so that gradients wrt to it can be computed."
      ]
    },
    {
      "cell_type": "code",
      "metadata": {
        "id": "7KOHka8fgC-R",
        "colab_type": "code",
        "outputId": "738e18a0-a49e-49fa-ac5a-b4972f9067a9",
        "colab": {
          "base_uri": "https://localhost:8080/",
          "height": 34
        }
      },
      "source": [
        "x.requires_grad"
      ],
      "execution_count": 5,
      "outputs": [
        {
          "output_type": "execute_result",
          "data": {
            "text/plain": [
              "False"
            ]
          },
          "metadata": {
            "tags": []
          },
          "execution_count": 5
        }
      ]
    },
    {
      "cell_type": "code",
      "metadata": {
        "id": "qCupY_tygC-S",
        "colab_type": "code",
        "outputId": "e273b081-3c07-4dac-b146-b64ee7a73b4a",
        "colab": {
          "base_uri": "https://localhost:8080/",
          "height": 51
        }
      },
      "source": [
        "x.numpy()"
      ],
      "execution_count": 6,
      "outputs": [
        {
          "output_type": "execute_result",
          "data": {
            "text/plain": [
              "array([[1., 1.],\n",
              "       [1., 1.]], dtype=float32)"
            ]
          },
          "metadata": {
            "tags": []
          },
          "execution_count": 6
        }
      ]
    },
    {
      "cell_type": "code",
      "metadata": {
        "id": "hWF-cjdugC-T",
        "colab_type": "code",
        "outputId": "3808d83f-0e33-4413-b9e8-bf6ed0194e54",
        "colab": {
          "base_uri": "https://localhost:8080/",
          "height": 34
        }
      },
      "source": [
        "x.requires_grad_(True)\n",
        "x.requires_grad"
      ],
      "execution_count": 7,
      "outputs": [
        {
          "output_type": "execute_result",
          "data": {
            "text/plain": [
              "True"
            ]
          },
          "metadata": {
            "tags": []
          },
          "execution_count": 7
        }
      ]
    },
    {
      "cell_type": "markdown",
      "metadata": {
        "id": "E8UvVzIDsgy-",
        "colab_type": "text"
      },
      "source": [
        "### Question: The following cell gives an error. Why?"
      ]
    },
    {
      "cell_type": "code",
      "metadata": {
        "id": "-3hhJbzSsbKT",
        "colab_type": "code",
        "outputId": "185461ac-5bc4-4120-ca2e-4b2fd1cc3c91",
        "colab": {
          "base_uri": "https://localhost:8080/",
          "height": 184
        }
      },
      "source": [
        "x.numpy()"
      ],
      "execution_count": 8,
      "outputs": [
        {
          "output_type": "error",
          "ename": "RuntimeError",
          "evalue": "ignored",
          "traceback": [
            "\u001b[0;31m---------------------------------------------------------------------------\u001b[0m",
            "\u001b[0;31mRuntimeError\u001b[0m                              Traceback (most recent call last)",
            "\u001b[0;32m<ipython-input-8-2527552080a3>\u001b[0m in \u001b[0;36m<module>\u001b[0;34m()\u001b[0m\n\u001b[0;32m----> 1\u001b[0;31m \u001b[0mx\u001b[0m\u001b[0;34m.\u001b[0m\u001b[0mnumpy\u001b[0m\u001b[0;34m(\u001b[0m\u001b[0;34m)\u001b[0m\u001b[0;34m\u001b[0m\u001b[0;34m\u001b[0m\u001b[0m\n\u001b[0m",
            "\u001b[0;31mRuntimeError\u001b[0m: Can't call numpy() on Variable that requires grad. Use var.detach().numpy() instead."
          ]
        }
      ]
    },
    {
      "cell_type": "markdown",
      "metadata": {
        "id": "zWw-MfOE1zYt",
        "colab_type": "text"
      },
      "source": [
        "---\n",
        "> We can't use the .numpy() method on a variable that requires grad, which we set for x 2 cells above.\n",
        "---"
      ]
    },
    {
      "cell_type": "code",
      "metadata": {
        "id": "raHZBNwMgC-U",
        "colab_type": "code",
        "colab": {}
      },
      "source": [
        "y = x.data.numpy() # Torch.data returns the \"data\" (array_like) stored in the tensor"
      ],
      "execution_count": 0,
      "outputs": []
    },
    {
      "cell_type": "code",
      "metadata": {
        "id": "__drA773RtHT",
        "colab_type": "code",
        "outputId": "6f9d8490-2fee-421b-ea6a-3a2d3ddf7f22",
        "colab": {
          "base_uri": "https://localhost:8080/",
          "height": 85
        }
      },
      "source": [
        "y[0]=2\n",
        "print(y)\n",
        "print(x)"
      ],
      "execution_count": 10,
      "outputs": [
        {
          "output_type": "stream",
          "text": [
            "[[2. 2.]\n",
            " [1. 1.]]\n",
            "tensor([[2., 2.],\n",
            "        [1., 1.]], requires_grad=True)\n"
          ],
          "name": "stdout"
        }
      ]
    },
    {
      "cell_type": "code",
      "metadata": {
        "id": "6TWE8h-ygC-V",
        "colab_type": "code",
        "outputId": "2cb65864-5316-4d4e-c099-c227300089fe",
        "colab": {
          "base_uri": "https://localhost:8080/",
          "height": 34
        }
      },
      "source": [
        "x.requires_grad"
      ],
      "execution_count": 11,
      "outputs": [
        {
          "output_type": "execute_result",
          "data": {
            "text/plain": [
              "True"
            ]
          },
          "metadata": {
            "tags": []
          },
          "execution_count": 11
        }
      ]
    },
    {
      "cell_type": "code",
      "metadata": {
        "id": "gACeHMOegC-W",
        "colab_type": "code",
        "outputId": "b898405a-ed30-42b0-808b-99085b77d3c4",
        "colab": {
          "base_uri": "https://localhost:8080/",
          "height": 188
        }
      },
      "source": [
        "y = x + 2\n",
        "print(y)\n",
        "torchviz.make_dot(y)"
      ],
      "execution_count": 12,
      "outputs": [
        {
          "output_type": "stream",
          "text": [
            "tensor([[4., 4.],\n",
            "        [3., 3.]], grad_fn=<AddBackward0>)\n"
          ],
          "name": "stdout"
        },
        {
          "output_type": "execute_result",
          "data": {
            "text/plain": [
              "<graphviz.dot.Digraph at 0x7fb86e3cbba8>"
            ],
            "image/svg+xml": "<?xml version=\"1.0\" encoding=\"UTF-8\" standalone=\"no\"?>\n<!DOCTYPE svg PUBLIC \"-//W3C//DTD SVG 1.1//EN\"\n \"http://www.w3.org/Graphics/SVG/1.1/DTD/svg11.dtd\">\n<!-- Generated by graphviz version 2.40.1 (20161225.0304)\n -->\n<!-- Title: %3 Pages: 1 -->\n<svg width=\"100pt\" height=\"100pt\"\n viewBox=\"0.00 0.00 100.00 100.00\" xmlns=\"http://www.w3.org/2000/svg\" xmlns:xlink=\"http://www.w3.org/1999/xlink\">\n<g id=\"graph0\" class=\"graph\" transform=\"scale(1 1) rotate(0) translate(4 96)\">\n<title>%3</title>\n<polygon fill=\"#ffffff\" stroke=\"transparent\" points=\"-4,4 -4,-96 96,-96 96,4 -4,4\"/>\n<!-- 140430100183248 -->\n<g id=\"node1\" class=\"node\">\n<title>140430100183248</title>\n<polygon fill=\"#caff70\" stroke=\"#000000\" points=\"92,-21 0,-21 0,0 92,0 92,-21\"/>\n<text text-anchor=\"middle\" x=\"46\" y=\"-7.4\" font-family=\"Times,serif\" font-size=\"12.00\" fill=\"#000000\">AddBackward0</text>\n</g>\n<!-- 140430100183920 -->\n<g id=\"node2\" class=\"node\">\n<title>140430100183920</title>\n<polygon fill=\"#add8e6\" stroke=\"#000000\" points=\"73,-92 19,-92 19,-57 73,-57 73,-92\"/>\n<text text-anchor=\"middle\" x=\"46\" y=\"-64.4\" font-family=\"Times,serif\" font-size=\"12.00\" fill=\"#000000\"> (2, 2)</text>\n</g>\n<!-- 140430100183920&#45;&gt;140430100183248 -->\n<g id=\"edge1\" class=\"edge\">\n<title>140430100183920&#45;&gt;140430100183248</title>\n<path fill=\"none\" stroke=\"#000000\" d=\"M46,-56.6724C46,-48.8405 46,-39.5893 46,-31.4323\"/>\n<polygon fill=\"#000000\" stroke=\"#000000\" points=\"49.5001,-31.2234 46,-21.2234 42.5001,-31.2235 49.5001,-31.2234\"/>\n</g>\n</g>\n</svg>\n"
          },
          "metadata": {
            "tags": []
          },
          "execution_count": 12
        }
      ]
    },
    {
      "cell_type": "markdown",
      "metadata": {
        "id": "GnSYGWNcgC-W",
        "colab_type": "text"
      },
      "source": [
        "**Broadcasting**\n",
        "\n",
        "Recall: Broadcasting **automatically** expands dimensions by replicating coefficients, when it is necessary to perform operations.\n",
        "\n",
        "1. If one of the tensors has fewer dimensions than the other, it is reshaped by adding as many dimensions of size 1 as necessary in the front; then\n",
        "2. for every mismatch, if one of the two tensor is of size one, it is expanded along this axis by replicating  coefficients.\n",
        "\n",
        "If there is a tensor size mismatch for one of the dimension and neither of them is one, the operation fails."
      ]
    },
    {
      "cell_type": "code",
      "metadata": {
        "id": "2CtszgyZgC-X",
        "colab_type": "code",
        "outputId": "515591fe-945e-48de-f71b-5d35ac9a2374",
        "colab": {
          "base_uri": "https://localhost:8080/",
          "height": 204
        }
      },
      "source": [
        "A = torch.tensor([[1.], [2.], [3.], [4.]])\n",
        "print(A.size())\n",
        "print(A)\n",
        "B = torch.tensor([[5., -5., 5., -5., 5.]])\n",
        "print(B.size())\n",
        "print(B)\n",
        "C = A + B\n",
        "print(C)"
      ],
      "execution_count": 13,
      "outputs": [
        {
          "output_type": "stream",
          "text": [
            "torch.Size([4, 1])\n",
            "tensor([[1.],\n",
            "        [2.],\n",
            "        [3.],\n",
            "        [4.]])\n",
            "torch.Size([1, 5])\n",
            "tensor([[ 5., -5.,  5., -5.,  5.]])\n",
            "tensor([[ 6., -4.,  6., -4.,  6.],\n",
            "        [ 7., -3.,  7., -3.,  7.],\n",
            "        [ 8., -2.,  8., -2.,  8.],\n",
            "        [ 9., -1.,  9., -1.,  9.]])\n"
          ],
          "name": "stdout"
        }
      ]
    },
    {
      "cell_type": "markdown",
      "metadata": {
        "id": "cVCkQQeRgC-Y",
        "colab_type": "text"
      },
      "source": [
        "Back to Autograd!"
      ]
    },
    {
      "cell_type": "code",
      "metadata": {
        "id": "hja6OM24gC-b",
        "colab_type": "code",
        "outputId": "abb62e33-c26f-4e70-9c05-c0c18ce2215d",
        "colab": {
          "base_uri": "https://localhost:8080/",
          "height": 51
        }
      },
      "source": [
        "x = torch.ones(2, 2)\n",
        "x.requires_grad_(True)\n",
        "y = x+2\n",
        "print(y)"
      ],
      "execution_count": 14,
      "outputs": [
        {
          "output_type": "stream",
          "text": [
            "tensor([[3., 3.],\n",
            "        [3., 3.]], grad_fn=<AddBackward0>)\n"
          ],
          "name": "stdout"
        }
      ]
    },
    {
      "cell_type": "code",
      "metadata": {
        "id": "NI3ikwlogC-Y",
        "colab_type": "code",
        "outputId": "655871f3-6efc-4804-cd2a-925c55d384d7",
        "colab": {
          "base_uri": "https://localhost:8080/",
          "height": 34
        }
      },
      "source": [
        "y.requires_grad"
      ],
      "execution_count": 15,
      "outputs": [
        {
          "output_type": "execute_result",
          "data": {
            "text/plain": [
              "True"
            ]
          },
          "metadata": {
            "tags": []
          },
          "execution_count": 15
        }
      ]
    },
    {
      "cell_type": "markdown",
      "metadata": {
        "id": "w5XJD5O13vPw",
        "colab_type": "text"
      },
      "source": [
        "Tensor and Function are interconnected and build up an acyclic graph, that encodes a complete history of computation. \n",
        "\n",
        "Each tensor has a .grad_fn attribute that references a Function that has created the Tensor (except for Tensors created by the user - their grad_fn is None)."
      ]
    },
    {
      "cell_type": "code",
      "metadata": {
        "id": "EOt8d0S0gC-Z",
        "colab_type": "code",
        "outputId": "d1eb9b4b-235f-4d97-eef4-a28640e35260",
        "colab": {
          "base_uri": "https://localhost:8080/",
          "height": 256
        }
      },
      "source": [
        "print(x)\n",
        "print(x.grad_fn)\n",
        "print(y)\n",
        "print(y.grad_fn)\n",
        "torchviz.make_dot(y) "
      ],
      "execution_count": 0,
      "outputs": [
        {
          "output_type": "stream",
          "text": [
            "tensor([[1., 1.],\n",
            "        [1., 1.]], requires_grad=True)\n",
            "None\n",
            "tensor([[3., 3.],\n",
            "        [3., 3.]], grad_fn=<AddBackward0>)\n",
            "<AddBackward0 object at 0x7f86dd9aef98>\n"
          ],
          "name": "stdout"
        },
        {
          "output_type": "execute_result",
          "data": {
            "text/plain": [
              "<graphviz.dot.Digraph at 0x7f86dd9aef28>"
            ],
            "image/svg+xml": "<?xml version=\"1.0\" encoding=\"UTF-8\" standalone=\"no\"?>\n<!DOCTYPE svg PUBLIC \"-//W3C//DTD SVG 1.1//EN\"\n \"http://www.w3.org/Graphics/SVG/1.1/DTD/svg11.dtd\">\n<!-- Generated by graphviz version 2.40.1 (20161225.0304)\n -->\n<!-- Title: %3 Pages: 1 -->\n<svg width=\"100pt\" height=\"100pt\"\n viewBox=\"0.00 0.00 100.00 100.00\" xmlns=\"http://www.w3.org/2000/svg\" xmlns:xlink=\"http://www.w3.org/1999/xlink\">\n<g id=\"graph0\" class=\"graph\" transform=\"scale(1 1) rotate(0) translate(4 96)\">\n<title>%3</title>\n<polygon fill=\"#ffffff\" stroke=\"transparent\" points=\"-4,4 -4,-96 96,-96 96,4 -4,4\"/>\n<!-- 140217220263888 -->\n<g id=\"node1\" class=\"node\">\n<title>140217220263888</title>\n<polygon fill=\"#caff70\" stroke=\"#000000\" points=\"92,-21 0,-21 0,0 92,0 92,-21\"/>\n<text text-anchor=\"middle\" x=\"46\" y=\"-7.4\" font-family=\"Times,serif\" font-size=\"12.00\" fill=\"#000000\">AddBackward0</text>\n</g>\n<!-- 140217220262208 -->\n<g id=\"node2\" class=\"node\">\n<title>140217220262208</title>\n<polygon fill=\"#add8e6\" stroke=\"#000000\" points=\"73,-92 19,-92 19,-57 73,-57 73,-92\"/>\n<text text-anchor=\"middle\" x=\"46\" y=\"-64.4\" font-family=\"Times,serif\" font-size=\"12.00\" fill=\"#000000\"> (2, 2)</text>\n</g>\n<!-- 140217220262208&#45;&gt;140217220263888 -->\n<g id=\"edge1\" class=\"edge\">\n<title>140217220262208&#45;&gt;140217220263888</title>\n<path fill=\"none\" stroke=\"#000000\" d=\"M46,-56.6724C46,-48.8405 46,-39.5893 46,-31.4323\"/>\n<polygon fill=\"#000000\" stroke=\"#000000\" points=\"49.5001,-31.2234 46,-21.2234 42.5001,-31.2235 49.5001,-31.2234\"/>\n</g>\n</g>\n</svg>\n"
          },
          "metadata": {
            "tags": []
          },
          "execution_count": 16
        }
      ]
    },
    {
      "cell_type": "code",
      "metadata": {
        "id": "x5vVEet32cC_",
        "colab_type": "code",
        "outputId": "053e211e-3df7-4dc9-c458-bc6cde4294e1",
        "colab": {
          "base_uri": "https://localhost:8080/",
          "height": 340
        }
      },
      "source": [
        "z = y * y * 3\n",
        "print(z)\n",
        "torchviz.make_dot(z) "
      ],
      "execution_count": 16,
      "outputs": [
        {
          "output_type": "stream",
          "text": [
            "tensor([[27., 27.],\n",
            "        [27., 27.]], grad_fn=<MulBackward0>)\n"
          ],
          "name": "stdout"
        },
        {
          "output_type": "execute_result",
          "data": {
            "text/plain": [
              "<graphviz.dot.Digraph at 0x7fb8dbabe2b0>"
            ],
            "image/svg+xml": "<?xml version=\"1.0\" encoding=\"UTF-8\" standalone=\"no\"?>\n<!DOCTYPE svg PUBLIC \"-//W3C//DTD SVG 1.1//EN\"\n \"http://www.w3.org/Graphics/SVG/1.1/DTD/svg11.dtd\">\n<!-- Generated by graphviz version 2.40.1 (20161225.0304)\n -->\n<!-- Title: %3 Pages: 1 -->\n<svg width=\"100pt\" height=\"214pt\"\n viewBox=\"0.00 0.00 100.00 214.00\" xmlns=\"http://www.w3.org/2000/svg\" xmlns:xlink=\"http://www.w3.org/1999/xlink\">\n<g id=\"graph0\" class=\"graph\" transform=\"scale(1 1) rotate(0) translate(4 210)\">\n<title>%3</title>\n<polygon fill=\"#ffffff\" stroke=\"transparent\" points=\"-4,4 -4,-210 96,-210 96,4 -4,4\"/>\n<!-- 140430100184480 -->\n<g id=\"node1\" class=\"node\">\n<title>140430100184480</title>\n<polygon fill=\"#caff70\" stroke=\"#000000\" points=\"91.5,-21 .5,-21 .5,0 91.5,0 91.5,-21\"/>\n<text text-anchor=\"middle\" x=\"46\" y=\"-7.4\" font-family=\"Times,serif\" font-size=\"12.00\" fill=\"#000000\">MulBackward0</text>\n</g>\n<!-- 140430100184592 -->\n<g id=\"node2\" class=\"node\">\n<title>140430100184592</title>\n<polygon fill=\"#d3d3d3\" stroke=\"#000000\" points=\"91.5,-78 .5,-78 .5,-57 91.5,-57 91.5,-78\"/>\n<text text-anchor=\"middle\" x=\"46\" y=\"-64.4\" font-family=\"Times,serif\" font-size=\"12.00\" fill=\"#000000\">MulBackward0</text>\n</g>\n<!-- 140430100184592&#45;&gt;140430100184480 -->\n<g id=\"edge1\" class=\"edge\">\n<title>140430100184592&#45;&gt;140430100184480</title>\n<path fill=\"none\" stroke=\"#000000\" d=\"M46,-56.7787C46,-49.6134 46,-39.9517 46,-31.3097\"/>\n<polygon fill=\"#000000\" stroke=\"#000000\" points=\"49.5001,-31.1732 46,-21.1732 42.5001,-31.1732 49.5001,-31.1732\"/>\n</g>\n<!-- 140430100184760 -->\n<g id=\"node3\" class=\"node\">\n<title>140430100184760</title>\n<polygon fill=\"#d3d3d3\" stroke=\"#000000\" points=\"92,-135 0,-135 0,-114 92,-114 92,-135\"/>\n<text text-anchor=\"middle\" x=\"46\" y=\"-121.4\" font-family=\"Times,serif\" font-size=\"12.00\" fill=\"#000000\">AddBackward0</text>\n</g>\n<!-- 140430100184760&#45;&gt;140430100184592 -->\n<g id=\"edge2\" class=\"edge\">\n<title>140430100184760&#45;&gt;140430100184592</title>\n<path fill=\"none\" stroke=\"#000000\" d=\"M40.5885,-113.7787C39.3317,-106.6134 38.9599,-96.9517 39.4733,-88.3097\"/>\n<polygon fill=\"#000000\" stroke=\"#000000\" points=\"42.9738,-88.498 40.597,-78.1732 36.0164,-87.7267 42.9738,-88.498\"/>\n</g>\n<!-- 140430100184760&#45;&gt;140430100184592 -->\n<g id=\"edge4\" class=\"edge\">\n<title>140430100184760&#45;&gt;140430100184592</title>\n<path fill=\"none\" stroke=\"#000000\" d=\"M51.4115,-113.7787C52.6683,-106.6134 53.0401,-96.9517 52.5267,-88.3097\"/>\n<polygon fill=\"#000000\" stroke=\"#000000\" points=\"55.9836,-87.7267 51.403,-78.1732 49.0262,-88.498 55.9836,-87.7267\"/>\n</g>\n<!-- 140430100184928 -->\n<g id=\"node4\" class=\"node\">\n<title>140430100184928</title>\n<polygon fill=\"#add8e6\" stroke=\"#000000\" points=\"73,-206 19,-206 19,-171 73,-171 73,-206\"/>\n<text text-anchor=\"middle\" x=\"46\" y=\"-178.4\" font-family=\"Times,serif\" font-size=\"12.00\" fill=\"#000000\"> (2, 2)</text>\n</g>\n<!-- 140430100184928&#45;&gt;140430100184760 -->\n<g id=\"edge3\" class=\"edge\">\n<title>140430100184928&#45;&gt;140430100184760</title>\n<path fill=\"none\" stroke=\"#000000\" d=\"M46,-170.6724C46,-162.8405 46,-153.5893 46,-145.4323\"/>\n<polygon fill=\"#000000\" stroke=\"#000000\" points=\"49.5001,-145.2234 46,-135.2234 42.5001,-145.2235 49.5001,-145.2234\"/>\n</g>\n</g>\n</svg>\n"
          },
          "metadata": {
            "tags": []
          },
          "execution_count": 16
        }
      ]
    },
    {
      "cell_type": "code",
      "metadata": {
        "id": "kQlr3Z-HgC-b",
        "colab_type": "code",
        "outputId": "bd349ee4-42cc-462d-c45a-826d87e91865",
        "colab": {
          "base_uri": "https://localhost:8080/",
          "height": 399
        }
      },
      "source": [
        "out = z.mean()\n",
        "print(out)\n",
        "torchviz.make_dot(out) "
      ],
      "execution_count": 17,
      "outputs": [
        {
          "output_type": "stream",
          "text": [
            "tensor(27., grad_fn=<MeanBackward0>)\n"
          ],
          "name": "stdout"
        },
        {
          "output_type": "execute_result",
          "data": {
            "text/plain": [
              "<graphviz.dot.Digraph at 0x7fb86e3cb668>"
            ],
            "image/svg+xml": "<?xml version=\"1.0\" encoding=\"UTF-8\" standalone=\"no\"?>\n<!DOCTYPE svg PUBLIC \"-//W3C//DTD SVG 1.1//EN\"\n \"http://www.w3.org/Graphics/SVG/1.1/DTD/svg11.dtd\">\n<!-- Generated by graphviz version 2.40.1 (20161225.0304)\n -->\n<!-- Title: %3 Pages: 1 -->\n<svg width=\"106pt\" height=\"271pt\"\n viewBox=\"0.00 0.00 106.00 271.00\" xmlns=\"http://www.w3.org/2000/svg\" xmlns:xlink=\"http://www.w3.org/1999/xlink\">\n<g id=\"graph0\" class=\"graph\" transform=\"scale(1 1) rotate(0) translate(4 267)\">\n<title>%3</title>\n<polygon fill=\"#ffffff\" stroke=\"transparent\" points=\"-4,4 -4,-267 102,-267 102,4 -4,4\"/>\n<!-- 140430100062728 -->\n<g id=\"node1\" class=\"node\">\n<title>140430100062728</title>\n<polygon fill=\"#caff70\" stroke=\"#000000\" points=\"98,-21 0,-21 0,0 98,0 98,-21\"/>\n<text text-anchor=\"middle\" x=\"49\" y=\"-7.4\" font-family=\"Times,serif\" font-size=\"12.00\" fill=\"#000000\">MeanBackward0</text>\n</g>\n<!-- 140430100184480 -->\n<g id=\"node2\" class=\"node\">\n<title>140430100184480</title>\n<polygon fill=\"#d3d3d3\" stroke=\"#000000\" points=\"94.5,-78 3.5,-78 3.5,-57 94.5,-57 94.5,-78\"/>\n<text text-anchor=\"middle\" x=\"49\" y=\"-64.4\" font-family=\"Times,serif\" font-size=\"12.00\" fill=\"#000000\">MulBackward0</text>\n</g>\n<!-- 140430100184480&#45;&gt;140430100062728 -->\n<g id=\"edge1\" class=\"edge\">\n<title>140430100184480&#45;&gt;140430100062728</title>\n<path fill=\"none\" stroke=\"#000000\" d=\"M49,-56.7787C49,-49.6134 49,-39.9517 49,-31.3097\"/>\n<polygon fill=\"#000000\" stroke=\"#000000\" points=\"52.5001,-31.1732 49,-21.1732 45.5001,-31.1732 52.5001,-31.1732\"/>\n</g>\n<!-- 140430100184592 -->\n<g id=\"node3\" class=\"node\">\n<title>140430100184592</title>\n<polygon fill=\"#d3d3d3\" stroke=\"#000000\" points=\"94.5,-135 3.5,-135 3.5,-114 94.5,-114 94.5,-135\"/>\n<text text-anchor=\"middle\" x=\"49\" y=\"-121.4\" font-family=\"Times,serif\" font-size=\"12.00\" fill=\"#000000\">MulBackward0</text>\n</g>\n<!-- 140430100184592&#45;&gt;140430100184480 -->\n<g id=\"edge2\" class=\"edge\">\n<title>140430100184592&#45;&gt;140430100184480</title>\n<path fill=\"none\" stroke=\"#000000\" d=\"M49,-113.7787C49,-106.6134 49,-96.9517 49,-88.3097\"/>\n<polygon fill=\"#000000\" stroke=\"#000000\" points=\"52.5001,-88.1732 49,-78.1732 45.5001,-88.1732 52.5001,-88.1732\"/>\n</g>\n<!-- 140430100184760 -->\n<g id=\"node4\" class=\"node\">\n<title>140430100184760</title>\n<polygon fill=\"#d3d3d3\" stroke=\"#000000\" points=\"95,-192 3,-192 3,-171 95,-171 95,-192\"/>\n<text text-anchor=\"middle\" x=\"49\" y=\"-178.4\" font-family=\"Times,serif\" font-size=\"12.00\" fill=\"#000000\">AddBackward0</text>\n</g>\n<!-- 140430100184760&#45;&gt;140430100184592 -->\n<g id=\"edge3\" class=\"edge\">\n<title>140430100184760&#45;&gt;140430100184592</title>\n<path fill=\"none\" stroke=\"#000000\" d=\"M43.5885,-170.7787C42.3317,-163.6134 41.9599,-153.9517 42.4733,-145.3097\"/>\n<polygon fill=\"#000000\" stroke=\"#000000\" points=\"45.9738,-145.498 43.597,-135.1732 39.0164,-144.7267 45.9738,-145.498\"/>\n</g>\n<!-- 140430100184760&#45;&gt;140430100184592 -->\n<g id=\"edge5\" class=\"edge\">\n<title>140430100184760&#45;&gt;140430100184592</title>\n<path fill=\"none\" stroke=\"#000000\" d=\"M54.4115,-170.7787C55.6683,-163.6134 56.0401,-153.9517 55.5267,-145.3097\"/>\n<polygon fill=\"#000000\" stroke=\"#000000\" points=\"58.9836,-144.7267 54.403,-135.1732 52.0262,-145.498 58.9836,-144.7267\"/>\n</g>\n<!-- 140430100184928 -->\n<g id=\"node5\" class=\"node\">\n<title>140430100184928</title>\n<polygon fill=\"#add8e6\" stroke=\"#000000\" points=\"76,-263 22,-263 22,-228 76,-228 76,-263\"/>\n<text text-anchor=\"middle\" x=\"49\" y=\"-235.4\" font-family=\"Times,serif\" font-size=\"12.00\" fill=\"#000000\"> (2, 2)</text>\n</g>\n<!-- 140430100184928&#45;&gt;140430100184760 -->\n<g id=\"edge4\" class=\"edge\">\n<title>140430100184928&#45;&gt;140430100184760</title>\n<path fill=\"none\" stroke=\"#000000\" d=\"M49,-227.6724C49,-219.8405 49,-210.5893 49,-202.4323\"/>\n<polygon fill=\"#000000\" stroke=\"#000000\" points=\"52.5001,-202.2234 49,-192.2234 45.5001,-202.2235 52.5001,-202.2234\"/>\n</g>\n</g>\n</svg>\n"
          },
          "metadata": {
            "tags": []
          },
          "execution_count": 17
        }
      ]
    },
    {
      "cell_type": "markdown",
      "metadata": {
        "id": "mrBx5oslgC-c",
        "colab_type": "text"
      },
      "source": [
        "After the computation is finished, i.e. _forward pass_, you can call ```.backward()``` and have all the gradients computed automatically."
      ]
    },
    {
      "cell_type": "code",
      "metadata": {
        "id": "g5AzQ3qV5oti",
        "colab_type": "code",
        "colab": {}
      },
      "source": [
        "out.backward()"
      ],
      "execution_count": 0,
      "outputs": []
    },
    {
      "cell_type": "markdown",
      "metadata": {
        "id": "niaze4W4gC-d",
        "colab_type": "text"
      },
      "source": [
        "The gradients w.r.t. this variable is accumulated into ```.grad```."
      ]
    },
    {
      "cell_type": "code",
      "metadata": {
        "id": "OiDnd1jXgC-d",
        "colab_type": "code",
        "outputId": "cbb1429f-4e2c-4e87-d1fb-5bec953f984f",
        "colab": {
          "base_uri": "https://localhost:8080/",
          "height": 51
        }
      },
      "source": [
        "print(x.grad)"
      ],
      "execution_count": 19,
      "outputs": [
        {
          "output_type": "stream",
          "text": [
            "tensor([[4.5000, 4.5000],\n",
            "        [4.5000, 4.5000]])\n"
          ],
          "name": "stdout"
        }
      ]
    },
    {
      "cell_type": "markdown",
      "metadata": {
        "id": "7kJrfEsF29yh",
        "colab_type": "text"
      },
      "source": [
        "### Question: Explain mathematically the value of \"x.grad\"\n"
      ]
    },
    {
      "cell_type": "markdown",
      "metadata": {
        "id": "f1gHxSOF7sGC",
        "colab_type": "text"
      },
      "source": [
        "---\n",
        "> first let's summarize our variables and their relevant derivatives:\n",
        "\n",
        ">$y=x+2, \\frac{\\mathrm dy}{\\mathrm d x}=1$\n",
        "\n",
        ">$z=3*y^2, \\frac{\\mathrm dz}{\\mathrm dy} = 6y$\n",
        "\n",
        ">$out = \\frac{1}{4}\\sum_{i=1}^{4}z_i,\n",
        "\\frac{\\mathrm d_{out}}{\\mathrm dz} = \\frac{1}{4}$\n",
        "\n",
        "> Putting it all together and using the chain rule:\n",
        "\n",
        "> $x.grad = \\frac{\\mathrm d_{out}}{\\mathrm dx}= \\frac{\\mathrm d_{out}}{\\mathrm dz} * \\frac{\\mathrm dz}{\\mathrm dy} * \\frac{\\mathrm dy}{\\mathrm dx}$ \n",
        "\n",
        "> $x.grad =  \\frac{1}{4} * 6y *1 = \\frac{3}{2} * y $\n",
        "\n",
        "> $x.grad = \n",
        " \\begin{pmatrix}\n",
        "  4.5 & 4.5 \\\\\n",
        "  4.5 & 4.5 \n",
        " \\end{pmatrix}$\n",
        "---"
      ]
    },
    {
      "cell_type": "markdown",
      "metadata": {
        "id": "UwJCU8Uo4ZvD",
        "colab_type": "text"
      },
      "source": [
        "[Why can I not see .grad of an intermediate variable?](https://discuss.pytorch.org/t/why-cant-i-see-grad-of-an-intermediate-variable/94)\n",
        "\n",
        "Gradients are only retained for leaf variables. \n",
        "\n",
        "Non-leaf variables’ gradients are not retained to be inspected later. This was done by design, to save memory."
      ]
    },
    {
      "cell_type": "code",
      "metadata": {
        "id": "16KkidoigC-e",
        "colab_type": "code",
        "outputId": "78ac38ee-5b95-470d-d3c7-514828be6c13",
        "colab": {
          "base_uri": "https://localhost:8080/",
          "height": 51
        }
      },
      "source": [
        "print(y.grad)\n",
        "print(out.grad)"
      ],
      "execution_count": 23,
      "outputs": [
        {
          "output_type": "stream",
          "text": [
            "None\n",
            "None\n"
          ],
          "name": "stdout"
        }
      ]
    },
    {
      "cell_type": "code",
      "metadata": {
        "id": "YSb96GMy5IdW",
        "colab_type": "code",
        "outputId": "5c37d702-1b6c-40f0-b3b4-d39465fecef3",
        "colab": {
          "base_uri": "https://localhost:8080/",
          "height": 399
        }
      },
      "source": [
        "x = 2 * torch.ones(2, 2)\n",
        "x.requires_grad_(True)\n",
        "out = (x * x * x + 2 ).mean()\n",
        "print(out)\n",
        "torchviz.make_dot(out)"
      ],
      "execution_count": 36,
      "outputs": [
        {
          "output_type": "stream",
          "text": [
            "tensor(10., grad_fn=<MeanBackward0>)\n"
          ],
          "name": "stdout"
        },
        {
          "output_type": "execute_result",
          "data": {
            "text/plain": [
              "<graphviz.dot.Digraph at 0x7fb8dbaad0f0>"
            ],
            "image/svg+xml": "<?xml version=\"1.0\" encoding=\"UTF-8\" standalone=\"no\"?>\n<!DOCTYPE svg PUBLIC \"-//W3C//DTD SVG 1.1//EN\"\n \"http://www.w3.org/Graphics/SVG/1.1/DTD/svg11.dtd\">\n<!-- Generated by graphviz version 2.40.1 (20161225.0304)\n -->\n<!-- Title: %3 Pages: 1 -->\n<svg width=\"140pt\" height=\"271pt\"\n viewBox=\"0.00 0.00 139.50 271.00\" xmlns=\"http://www.w3.org/2000/svg\" xmlns:xlink=\"http://www.w3.org/1999/xlink\">\n<g id=\"graph0\" class=\"graph\" transform=\"scale(1 1) rotate(0) translate(4 267)\">\n<title>%3</title>\n<polygon fill=\"#ffffff\" stroke=\"transparent\" points=\"-4,4 -4,-267 135.5,-267 135.5,4 -4,4\"/>\n<!-- 140430082876080 -->\n<g id=\"node1\" class=\"node\">\n<title>140430082876080</title>\n<polygon fill=\"#caff70\" stroke=\"#000000\" points=\"98,-21 0,-21 0,0 98,0 98,-21\"/>\n<text text-anchor=\"middle\" x=\"49\" y=\"-7.4\" font-family=\"Times,serif\" font-size=\"12.00\" fill=\"#000000\">MeanBackward0</text>\n</g>\n<!-- 140430082876136 -->\n<g id=\"node2\" class=\"node\">\n<title>140430082876136</title>\n<polygon fill=\"#d3d3d3\" stroke=\"#000000\" points=\"95,-78 3,-78 3,-57 95,-57 95,-78\"/>\n<text text-anchor=\"middle\" x=\"49\" y=\"-64.4\" font-family=\"Times,serif\" font-size=\"12.00\" fill=\"#000000\">AddBackward0</text>\n</g>\n<!-- 140430082876136&#45;&gt;140430082876080 -->\n<g id=\"edge1\" class=\"edge\">\n<title>140430082876136&#45;&gt;140430082876080</title>\n<path fill=\"none\" stroke=\"#000000\" d=\"M49,-56.7787C49,-49.6134 49,-39.9517 49,-31.3097\"/>\n<polygon fill=\"#000000\" stroke=\"#000000\" points=\"52.5001,-31.1732 49,-21.1732 45.5001,-31.1732 52.5001,-31.1732\"/>\n</g>\n<!-- 140430082876192 -->\n<g id=\"node3\" class=\"node\">\n<title>140430082876192</title>\n<polygon fill=\"#d3d3d3\" stroke=\"#000000\" points=\"94.5,-135 3.5,-135 3.5,-114 94.5,-114 94.5,-135\"/>\n<text text-anchor=\"middle\" x=\"49\" y=\"-121.4\" font-family=\"Times,serif\" font-size=\"12.00\" fill=\"#000000\">MulBackward0</text>\n</g>\n<!-- 140430082876192&#45;&gt;140430082876136 -->\n<g id=\"edge2\" class=\"edge\">\n<title>140430082876192&#45;&gt;140430082876136</title>\n<path fill=\"none\" stroke=\"#000000\" d=\"M49,-113.7787C49,-106.6134 49,-96.9517 49,-88.3097\"/>\n<polygon fill=\"#000000\" stroke=\"#000000\" points=\"52.5001,-88.1732 49,-78.1732 45.5001,-88.1732 52.5001,-88.1732\"/>\n</g>\n<!-- 140430082876304 -->\n<g id=\"node4\" class=\"node\">\n<title>140430082876304</title>\n<polygon fill=\"#d3d3d3\" stroke=\"#000000\" points=\"131.5,-192 40.5,-192 40.5,-171 131.5,-171 131.5,-192\"/>\n<text text-anchor=\"middle\" x=\"86\" y=\"-178.4\" font-family=\"Times,serif\" font-size=\"12.00\" fill=\"#000000\">MulBackward0</text>\n</g>\n<!-- 140430082876304&#45;&gt;140430082876192 -->\n<g id=\"edge3\" class=\"edge\">\n<title>140430082876304&#45;&gt;140430082876192</title>\n<path fill=\"none\" stroke=\"#000000\" d=\"M79.0406,-170.7787C74.0793,-163.1357 67.2744,-152.6524 61.3956,-143.596\"/>\n<polygon fill=\"#000000\" stroke=\"#000000\" points=\"64.3087,-141.6553 55.9282,-135.1732 58.4372,-145.4667 64.3087,-141.6553\"/>\n</g>\n<!-- 140430082876360 -->\n<g id=\"node5\" class=\"node\">\n<title>140430082876360</title>\n<polygon fill=\"#add8e6\" stroke=\"#000000\" points=\"113,-263 59,-263 59,-228 113,-228 113,-263\"/>\n<text text-anchor=\"middle\" x=\"86\" y=\"-235.4\" font-family=\"Times,serif\" font-size=\"12.00\" fill=\"#000000\"> (2, 2)</text>\n</g>\n<!-- 140430082876360&#45;&gt;140430082876192 -->\n<g id=\"edge6\" class=\"edge\">\n<title>140430082876360&#45;&gt;140430082876192</title>\n<path fill=\"none\" stroke=\"#000000\" d=\"M60.7835,-227.9148C49.732,-218.6511 37.942,-206.2514 32,-192 25.5633,-176.5621 31.0558,-158.0869 37.4598,-144.371\"/>\n<polygon fill=\"#000000\" stroke=\"#000000\" points=\"40.6468,-145.8274 42.1265,-135.3364 34.4275,-142.6149 40.6468,-145.8274\"/>\n</g>\n<!-- 140430082876360&#45;&gt;140430082876304 -->\n<g id=\"edge4\" class=\"edge\">\n<title>140430082876360&#45;&gt;140430082876304</title>\n<path fill=\"none\" stroke=\"#000000\" d=\"M79.8766,-227.6724C79.1368,-219.8405 79.0521,-210.5893 79.6224,-202.4323\"/>\n<polygon fill=\"#000000\" stroke=\"#000000\" points=\"83.131,-202.5601 80.8063,-192.2234 76.1776,-201.7537 83.131,-202.5601\"/>\n</g>\n<!-- 140430082876360&#45;&gt;140430082876304 -->\n<g id=\"edge5\" class=\"edge\">\n<title>140430082876360&#45;&gt;140430082876304</title>\n<path fill=\"none\" stroke=\"#000000\" d=\"M92.1234,-227.6724C92.8632,-219.8405 92.9479,-210.5893 92.3776,-202.4323\"/>\n<polygon fill=\"#000000\" stroke=\"#000000\" points=\"95.8224,-201.7537 91.1937,-192.2234 88.869,-202.5601 95.8224,-201.7537\"/>\n</g>\n</g>\n</svg>\n"
          },
          "metadata": {
            "tags": []
          },
          "execution_count": 36
        }
      ]
    },
    {
      "cell_type": "code",
      "metadata": {
        "id": "AEPS2hMfgC-g",
        "colab_type": "code",
        "colab": {}
      },
      "source": [
        "out.backward(torch.Tensor([2.0]))\n",
        "#out.backward() #> this returns the matrix with 3. "
      ],
      "execution_count": 0,
      "outputs": []
    },
    {
      "cell_type": "markdown",
      "metadata": {
        "id": "_uzoqTqP7H2H",
        "colab_type": "text"
      },
      "source": [
        "### Question: Explain mathematically the value of \"x.grad\" in the following cell"
      ]
    },
    {
      "cell_type": "markdown",
      "metadata": {
        "id": "PIJog-w9RouG",
        "colab_type": "text"
      },
      "source": [
        "> $out = \\frac{1}{4}\\sum_{i=1}^{4} x_i^3+ 2 $\n",
        "\n",
        ">$\\frac{\\mathrm d_{out}}{\\mathrm d x}=\\frac{3}{4}x^2$\n",
        "\n",
        ">$x = \n",
        " \\begin{pmatrix}\n",
        "  2. & 2. \\\\\n",
        "  2. & 2. \n",
        " \\end{pmatrix}, x^2 = \n",
        " \\begin{pmatrix}\n",
        "  4. & 4. \\\\\n",
        "  4. & 4. \n",
        " \\end{pmatrix}$\n",
        " \n",
        " >$\\frac{\\mathrm d_{out}}{\\mathrm d x}=\\begin{pmatrix}\n",
        "  3. & 3. \\\\\n",
        "  3. & 3. \n",
        " \\end{pmatrix}$\n",
        " \n",
        " >Below we get twice that, because the parameter <torch.Tensor([2.0])> was passed into the backward method.  "
      ]
    },
    {
      "cell_type": "code",
      "metadata": {
        "id": "ngiu74HUgC-g",
        "colab_type": "code",
        "outputId": "38996a46-b7c6-413f-8a9b-506ee12fcb29",
        "colab": {
          "base_uri": "https://localhost:8080/",
          "height": 51
        }
      },
      "source": [
        "print(x.grad) "
      ],
      "execution_count": 38,
      "outputs": [
        {
          "output_type": "stream",
          "text": [
            "tensor([[6., 6.],\n",
            "        [6., 6.]])\n"
          ],
          "name": "stdout"
        }
      ]
    },
    {
      "cell_type": "markdown",
      "metadata": {
        "id": "ypBdAAq29Jcm",
        "colab_type": "text"
      },
      "source": [
        "## How to compute the gradient when I want?\n",
        "\n"
      ]
    },
    {
      "cell_type": "code",
      "metadata": {
        "id": "0QxJzcmqgC-h",
        "colab_type": "code",
        "outputId": "5b1a7323-34cb-4aa9-f3ab-88649a2c1707",
        "colab": {
          "base_uri": "https://localhost:8080/",
          "height": 51
        }
      },
      "source": [
        "x = torch.ones(2, 2)\n",
        "x.requires_grad_(True)\n",
        "y = x+2\n",
        "z = 3 * y ** 2 \n",
        "out = z.mean()\n",
        "\n",
        "out.backward(retain_graph=True)\n",
        "\n",
        "print(x.grad)"
      ],
      "execution_count": 39,
      "outputs": [
        {
          "output_type": "stream",
          "text": [
            "tensor([[4.5000, 4.5000],\n",
            "        [4.5000, 4.5000]])\n"
          ],
          "name": "stdout"
        }
      ]
    },
    {
      "cell_type": "markdown",
      "metadata": {
        "id": "UPWKUoHo9rwC",
        "colab_type": "text"
      },
      "source": [
        "Calling again the \"backward\" process does not launch an error"
      ]
    },
    {
      "cell_type": "code",
      "metadata": {
        "id": "SNbrrv30gC-l",
        "colab_type": "code",
        "colab": {}
      },
      "source": [
        "out.backward(retain_graph=True)"
      ],
      "execution_count": 0,
      "outputs": []
    },
    {
      "cell_type": "code",
      "metadata": {
        "id": "20hB_GAkgC-i",
        "colab_type": "code",
        "outputId": "110f889a-a010-466f-fcde-ae83258b5c53",
        "colab": {
          "base_uri": "https://localhost:8080/",
          "height": 51
        }
      },
      "source": [
        "print(x.grad)"
      ],
      "execution_count": 41,
      "outputs": [
        {
          "output_type": "stream",
          "text": [
            "tensor([[9., 9.],\n",
            "        [9., 9.]])\n"
          ],
          "name": "stdout"
        }
      ]
    },
    {
      "cell_type": "code",
      "metadata": {
        "id": "gXuFJckx-FFf",
        "colab_type": "code",
        "outputId": "253bd295-6d1e-471c-e8e1-f4f3f88f841d",
        "colab": {
          "base_uri": "https://localhost:8080/",
          "height": 34
        }
      },
      "source": [
        "torch.autograd.grad(out, out, retain_graph=True)"
      ],
      "execution_count": 42,
      "outputs": [
        {
          "output_type": "execute_result",
          "data": {
            "text/plain": [
              "(tensor(1.),)"
            ]
          },
          "metadata": {
            "tags": []
          },
          "execution_count": 42
        }
      ]
    },
    {
      "cell_type": "code",
      "metadata": {
        "id": "swHcxn-CgC-j",
        "colab_type": "code",
        "outputId": "378e14c6-7b1d-4765-e1a6-ab8e68e75b24",
        "colab": {
          "base_uri": "https://localhost:8080/",
          "height": 51
        }
      },
      "source": [
        "torch.autograd.grad(out, z, retain_graph=True)"
      ],
      "execution_count": 43,
      "outputs": [
        {
          "output_type": "execute_result",
          "data": {
            "text/plain": [
              "(tensor([[0.2500, 0.2500],\n",
              "         [0.2500, 0.2500]]),)"
            ]
          },
          "metadata": {
            "tags": []
          },
          "execution_count": 43
        }
      ]
    },
    {
      "cell_type": "code",
      "metadata": {
        "id": "M_Ko7_y1gC-k",
        "colab_type": "code",
        "outputId": "b722e312-89fe-48d5-adf2-826c9196b67d",
        "colab": {
          "base_uri": "https://localhost:8080/",
          "height": 51
        }
      },
      "source": [
        "torch.autograd.grad(out, y, retain_graph=True)"
      ],
      "execution_count": 44,
      "outputs": [
        {
          "output_type": "execute_result",
          "data": {
            "text/plain": [
              "(tensor([[4.5000, 4.5000],\n",
              "         [4.5000, 4.5000]]),)"
            ]
          },
          "metadata": {
            "tags": []
          },
          "execution_count": 44
        }
      ]
    },
    {
      "cell_type": "code",
      "metadata": {
        "id": "OvjmLzDAgC-m",
        "colab_type": "code",
        "colab": {}
      },
      "source": [
        "out.backward(torch.Tensor([2.0]), retain_graph=True)"
      ],
      "execution_count": 0,
      "outputs": []
    },
    {
      "cell_type": "code",
      "metadata": {
        "id": "gctEXtYhgC-n",
        "colab_type": "code",
        "outputId": "880cebad-69ac-4262-fce1-9c1ea1bc530e",
        "colab": {
          "base_uri": "https://localhost:8080/",
          "height": 51
        }
      },
      "source": [
        "print(x.grad)"
      ],
      "execution_count": 46,
      "outputs": [
        {
          "output_type": "stream",
          "text": [
            "tensor([[18., 18.],\n",
            "        [18., 18.]])\n"
          ],
          "name": "stdout"
        }
      ]
    },
    {
      "cell_type": "markdown",
      "metadata": {
        "id": "vBtNQ8By_Aao",
        "colab_type": "text"
      },
      "source": [
        "## A last example"
      ]
    },
    {
      "cell_type": "code",
      "metadata": {
        "id": "Q_gpAR_6l_BC",
        "colab_type": "code",
        "outputId": "0990f9ae-763a-4724-ba78-7e5d04ce6c86",
        "colab": {
          "base_uri": "https://localhost:8080/",
          "height": 323
        }
      },
      "source": [
        "x=torch.ones(10, requires_grad=True)\n",
        "\n",
        "y=x**2\n",
        "z=x**3\n",
        "r=(y+z).sum()\n",
        "\n",
        "r.backward()\n",
        "print(x.grad)\n",
        "torchviz.make_dot(r) "
      ],
      "execution_count": 47,
      "outputs": [
        {
          "output_type": "stream",
          "text": [
            "tensor([5., 5., 5., 5., 5., 5., 5., 5., 5., 5.])\n"
          ],
          "name": "stdout"
        },
        {
          "output_type": "execute_result",
          "data": {
            "text/plain": [
              "<graphviz.dot.Digraph at 0x7fb8baba3908>"
            ],
            "image/svg+xml": "<?xml version=\"1.0\" encoding=\"UTF-8\" standalone=\"no\"?>\n<!DOCTYPE svg PUBLIC \"-//W3C//DTD SVG 1.1//EN\"\n \"http://www.w3.org/Graphics/SVG/1.1/DTD/svg11.dtd\">\n<!-- Generated by graphviz version 2.40.1 (20161225.0304)\n -->\n<!-- Title: %3 Pages: 1 -->\n<svg width=\"212pt\" height=\"214pt\"\n viewBox=\"0.00 0.00 212.00 214.00\" xmlns=\"http://www.w3.org/2000/svg\" xmlns:xlink=\"http://www.w3.org/1999/xlink\">\n<g id=\"graph0\" class=\"graph\" transform=\"scale(1 1) rotate(0) translate(4 210)\">\n<title>%3</title>\n<polygon fill=\"#ffffff\" stroke=\"transparent\" points=\"-4,4 -4,-210 208,-210 208,4 -4,4\"/>\n<!-- 140430082877928 -->\n<g id=\"node1\" class=\"node\">\n<title>140430082877928</title>\n<polygon fill=\"#caff70\" stroke=\"#000000\" points=\"148,-21 55,-21 55,0 148,0 148,-21\"/>\n<text text-anchor=\"middle\" x=\"101.5\" y=\"-7.4\" font-family=\"Times,serif\" font-size=\"12.00\" fill=\"#000000\">SumBackward0</text>\n</g>\n<!-- 140430082877984 -->\n<g id=\"node2\" class=\"node\">\n<title>140430082877984</title>\n<polygon fill=\"#d3d3d3\" stroke=\"#000000\" points=\"147.5,-78 55.5,-78 55.5,-57 147.5,-57 147.5,-78\"/>\n<text text-anchor=\"middle\" x=\"101.5\" y=\"-64.4\" font-family=\"Times,serif\" font-size=\"12.00\" fill=\"#000000\">AddBackward0</text>\n</g>\n<!-- 140430082877984&#45;&gt;140430082877928 -->\n<g id=\"edge1\" class=\"edge\">\n<title>140430082877984&#45;&gt;140430082877928</title>\n<path fill=\"none\" stroke=\"#000000\" d=\"M101.5,-56.7787C101.5,-49.6134 101.5,-39.9517 101.5,-31.3097\"/>\n<polygon fill=\"#000000\" stroke=\"#000000\" points=\"105.0001,-31.1732 101.5,-21.1732 98.0001,-31.1732 105.0001,-31.1732\"/>\n</g>\n<!-- 140430082878208 -->\n<g id=\"node3\" class=\"node\">\n<title>140430082878208</title>\n<polygon fill=\"#d3d3d3\" stroke=\"#000000\" points=\"93,-135 0,-135 0,-114 93,-114 93,-135\"/>\n<text text-anchor=\"middle\" x=\"46.5\" y=\"-121.4\" font-family=\"Times,serif\" font-size=\"12.00\" fill=\"#000000\">PowBackward0</text>\n</g>\n<!-- 140430082878208&#45;&gt;140430082877984 -->\n<g id=\"edge2\" class=\"edge\">\n<title>140430082878208&#45;&gt;140430082877984</title>\n<path fill=\"none\" stroke=\"#000000\" d=\"M56.8451,-113.7787C64.5272,-105.8173 75.1831,-94.7739 84.1589,-85.4717\"/>\n<polygon fill=\"#000000\" stroke=\"#000000\" points=\"86.7763,-87.7997 91.2013,-78.1732 81.7389,-82.9391 86.7763,-87.7997\"/>\n</g>\n<!-- 140430082878264 -->\n<g id=\"node4\" class=\"node\">\n<title>140430082878264</title>\n<polygon fill=\"#add8e6\" stroke=\"#000000\" points=\"128.5,-206 74.5,-206 74.5,-171 128.5,-171 128.5,-206\"/>\n<text text-anchor=\"middle\" x=\"101.5\" y=\"-178.4\" font-family=\"Times,serif\" font-size=\"12.00\" fill=\"#000000\"> (10)</text>\n</g>\n<!-- 140430082878264&#45;&gt;140430082878208 -->\n<g id=\"edge3\" class=\"edge\">\n<title>140430082878264&#45;&gt;140430082878208</title>\n<path fill=\"none\" stroke=\"#000000\" d=\"M86.1794,-170.6724C78.7606,-162.0396 69.8597,-151.6821 62.3697,-142.9666\"/>\n<polygon fill=\"#000000\" stroke=\"#000000\" points=\"64.8876,-140.5265 55.7154,-135.2234 59.5787,-145.0888 64.8876,-140.5265\"/>\n</g>\n<!-- 140430082878152 -->\n<g id=\"node5\" class=\"node\">\n<title>140430082878152</title>\n<polygon fill=\"#d3d3d3\" stroke=\"#000000\" points=\"204,-135 111,-135 111,-114 204,-114 204,-135\"/>\n<text text-anchor=\"middle\" x=\"157.5\" y=\"-121.4\" font-family=\"Times,serif\" font-size=\"12.00\" fill=\"#000000\">PowBackward0</text>\n</g>\n<!-- 140430082878264&#45;&gt;140430082878152 -->\n<g id=\"edge5\" class=\"edge\">\n<title>140430082878264&#45;&gt;140430082878152</title>\n<path fill=\"none\" stroke=\"#000000\" d=\"M117.0991,-170.6724C124.6529,-162.0396 133.7156,-151.6821 141.3417,-142.9666\"/>\n<polygon fill=\"#000000\" stroke=\"#000000\" points=\"144.1659,-145.054 148.117,-135.2234 138.8979,-140.4444 144.1659,-145.054\"/>\n</g>\n<!-- 140430082878152&#45;&gt;140430082877984 -->\n<g id=\"edge4\" class=\"edge\">\n<title>140430082878152&#45;&gt;140430082877984</title>\n<path fill=\"none\" stroke=\"#000000\" d=\"M146.9668,-113.7787C139.145,-105.8173 128.2954,-94.7739 119.1564,-85.4717\"/>\n<polygon fill=\"#000000\" stroke=\"#000000\" points=\"121.4909,-82.8537 111.9859,-78.1732 116.4975,-87.7595 121.4909,-82.8537\"/>\n</g>\n</g>\n</svg>\n"
          },
          "metadata": {
            "tags": []
          },
          "execution_count": 47
        }
      ]
    },
    {
      "cell_type": "markdown",
      "metadata": {
        "id": "kTN0-Pm0gC-o",
        "colab_type": "text"
      },
      "source": [
        "## Gradient accumulation\n",
        "\n",
        "\n",
        "The gradients must be set to zero manually. Otherwise they will cumulate across several _.backward()_ calls. \n",
        "This accumulating behavior is desirable in particular to compute the gradient of a loss summed over several “mini-batches,” or the gradient of a sum of losses.\n"
      ]
    },
    {
      "cell_type": "code",
      "metadata": {
        "id": "ELCAEIdv_G3X",
        "colab_type": "code",
        "outputId": "b934d066-55b1-4468-840b-431b3fff82a8",
        "colab": {
          "base_uri": "https://localhost:8080/",
          "height": 51
        }
      },
      "source": [
        "x = torch.ones(1, 1,requires_grad = True)\n",
        "print(x)\n",
        "out = (x+1)**2\n",
        "print(out)"
      ],
      "execution_count": 48,
      "outputs": [
        {
          "output_type": "stream",
          "text": [
            "tensor([[1.]], requires_grad=True)\n",
            "tensor([[4.]], grad_fn=<PowBackward0>)\n"
          ],
          "name": "stdout"
        }
      ]
    },
    {
      "cell_type": "code",
      "metadata": {
        "id": "lG7OEaY7gC-o",
        "colab_type": "code",
        "outputId": "6f7dadb8-625e-4306-d330-2aff6ae2af6f",
        "colab": {
          "base_uri": "https://localhost:8080/",
          "height": 68
        }
      },
      "source": [
        "out.backward(torch.ones(1,1),retain_graph=True) #(x+1)**2 --/dx--> 2(x+1) -> 4\n",
        "print(x.grad)\n",
        "out.backward(2 * torch.ones(1,1),retain_graph=True) # prevgrads + 2*(2(x+1)) -> 4+8\n",
        "print(x.grad)\n",
        "out.backward(retain_graph=True) #prevgrads + 2(x+1) -> 12+4\n",
        "print(x.grad)"
      ],
      "execution_count": 49,
      "outputs": [
        {
          "output_type": "stream",
          "text": [
            "tensor([[4.]])\n",
            "tensor([[12.]])\n",
            "tensor([[16.]])\n"
          ],
          "name": "stdout"
        }
      ]
    },
    {
      "cell_type": "code",
      "metadata": {
        "id": "64bGfnYegC-n",
        "colab_type": "code",
        "outputId": "5faa18b1-2e71-4e5e-def9-4ef5411c095f",
        "colab": {
          "base_uri": "https://localhost:8080/",
          "height": 34
        }
      },
      "source": [
        "# Manually zero the gradients after updating weights\n",
        "x.grad.data.zero_()"
      ],
      "execution_count": 50,
      "outputs": [
        {
          "output_type": "execute_result",
          "data": {
            "text/plain": [
              "tensor([[0.]])"
            ]
          },
          "metadata": {
            "tags": []
          },
          "execution_count": 50
        }
      ]
    },
    {
      "cell_type": "code",
      "metadata": {
        "id": "-7XNSIw9gC-p",
        "colab_type": "code",
        "outputId": "88f9c351-64ef-4da7-d4a7-cb5170f22987",
        "colab": {
          "base_uri": "https://localhost:8080/",
          "height": 68
        }
      },
      "source": [
        "out.backward(torch.ones(1,1),retain_graph=True) \n",
        "print(x.grad)\n",
        "x.grad.data.zero_()\n",
        "out.backward(2 * torch.ones(1,1),retain_graph=True) #prevsgrad + 2*(2(x+1)) -> 0+8\n",
        "print(x.grad)\n",
        "x.grad.data.zero_()\n",
        "out.backward(retain_graph=True) #prevsgrad + 2(x+1) -> 0+4\n",
        "print(x.grad)\n"
      ],
      "execution_count": 51,
      "outputs": [
        {
          "output_type": "stream",
          "text": [
            "tensor([[4.]])\n",
            "tensor([[8.]])\n",
            "tensor([[4.]])\n"
          ],
          "name": "stdout"
        }
      ]
    },
    {
      "cell_type": "markdown",
      "metadata": {
        "id": "E-03ZcQggC-p",
        "colab_type": "text"
      },
      "source": [
        "If you want to come back to the difference between detach and data see [Differences between .data and .detach](https://github.com/pytorch/pytorch/issues/6990)"
      ]
    },
    {
      "cell_type": "markdown",
      "metadata": {
        "collapsed": true,
        "id": "yTdzGEodgC-p",
        "colab_type": "text"
      },
      "source": [
        "# Playing with a neural network in pytorch: non-linear regression"
      ]
    },
    {
      "cell_type": "markdown",
      "metadata": {
        "colab_type": "text",
        "id": "VMoz9H5VuC5B"
      },
      "source": [
        "## Non-linear regression with a neural network"
      ]
    },
    {
      "cell_type": "markdown",
      "metadata": {
        "id": "cZsTaZ2NgC-z",
        "colab_type": "text"
      },
      "source": [
        "An implementation of **(Batch) Gradient Descent** using the nn package. Here we have a super simple model with only one layer and no activation function!"
      ]
    },
    {
      "cell_type": "markdown",
      "metadata": {
        "id": "DDMmHyHmJfRC",
        "colab_type": "text"
      },
      "source": [
        "Generate the dataset and visualize it."
      ]
    },
    {
      "cell_type": "code",
      "metadata": {
        "id": "-mSHFwP337eD",
        "colab_type": "code",
        "outputId": "75d7b3bd-cef2-4e67-ce7e-a585f3f71d73",
        "colab": {
          "base_uri": "https://localhost:8080/",
          "height": 248
        }
      },
      "source": [
        "from mpl_toolkits.mplot3d import Axes3D\n",
        "import matplotlib.pyplot as plt\n",
        "from matplotlib import cm\n",
        "from matplotlib.ticker import LinearLocator, FormatStrFormatter\n",
        "import numpy as np\n",
        "\n",
        "\n",
        "# Make data\n",
        "num_samples = 10\n",
        "X1 = np.linspace(-5, 5, num_samples) \n",
        "X2 = np.linspace(-5, 5, num_samples) \n",
        "X1grid, X2grid = np.meshgrid(X1, X2)\n",
        "Y = -(0.1*X1grid**2 + 3*np.sin(0.1*X2grid) + 0.1) \n",
        "\n",
        "# Plot the surface.\n",
        "fig = plt.figure()\n",
        "ax = fig.gca(projection='3d')\n",
        "surf = ax.plot_surface(X1grid, X2grid, Y, cmap=cm.coolwarm,\n",
        "                       linewidth=0, antialiased=False)\n",
        "# Add a color bar which maps values to colors.\n",
        "fig.colorbar(surf, shrink=0.5, aspect=5)\n",
        "plt.show()"
      ],
      "execution_count": 59,
      "outputs": [
        {
          "output_type": "display_data",
          "data": {
            "image/png": "[encoded data removed]",
            "text/plain": [
              "<Figure size 432x288 with 2 Axes>"
            ]
          },
          "metadata": {
            "tags": []
          }
        }
      ]
    },
    {
      "cell_type": "code",
      "metadata": {
        "id": "MMu65iQ17nPp",
        "colab_type": "code",
        "outputId": "dfe56811-5d91-4dd6-b9e5-a5fa16be20a0",
        "colab": {
          "base_uri": "https://localhost:8080/",
          "height": 85
        }
      },
      "source": [
        "x1n = X1grid.ravel().reshape(-1, 1)\n",
        "x2n = X2grid.ravel().reshape(-1, 1)\n",
        "xn = np.concatenate((x1n,x2n),axis=1)\n",
        "yn = Y.ravel().reshape(-1, 1)\n",
        "print(xn.shape)\n",
        "print(yn.shape)\n",
        "\n",
        "# Convert in pytorch tensors\n",
        "x = torch.from_numpy(xn).float()\n",
        "y = torch.from_numpy(yn).float()\n",
        "print(x.shape)\n",
        "print(y.shape)"
      ],
      "execution_count": 53,
      "outputs": [
        {
          "output_type": "stream",
          "text": [
            "(100, 2)\n",
            "(100, 1)\n",
            "torch.Size([100, 2])\n",
            "torch.Size([100, 1])\n"
          ],
          "name": "stdout"
        }
      ]
    },
    {
      "cell_type": "markdown",
      "metadata": {
        "id": "CkcyFiacL8fH",
        "colab_type": "text"
      },
      "source": [
        "## Neural network with full implementation (gradient computation and estimate update)"
      ]
    },
    {
      "cell_type": "code",
      "metadata": {
        "id": "T4se-BEixM3Z",
        "colab_type": "code",
        "outputId": "fdad2070-0a57-4434-a174-952e96d08221",
        "colab": {
          "base_uri": "https://localhost:8080/",
          "height": 204
        }
      },
      "source": [
        "import torch\n",
        "\n",
        "dtype = torch.float\n",
        "\n",
        "\n",
        "# N is batch size; D_in is input dimension;\n",
        "# H is hidden dimension; D_out is output dimension.\n",
        "N, D_in, H, D_out = num_samples**2, 2, 100, 1\n",
        "\n",
        "# Randomly initialize weights\n",
        "w1 = torch.randn(D_in, H, dtype=dtype)\n",
        "w2 = torch.randn(H, D_out,  dtype=dtype)\n",
        "\n",
        "learning_rate = 1e-6 #1e-6\n",
        "for t in range(10001):\n",
        "    # Forward pass: compute predicted y\n",
        "    h = x.mm(w1) #H = X . W1\n",
        "    \n",
        "    h_relu = h.clamp(min=0) #proj: x-->x+, relu function Hrelu = SIGMArelu(H)\n",
        "    y_pred = h_relu.mm(w2) # Ypred = Hrelu . W2\n",
        "    #print(y_pred)\n",
        "\n",
        "    # Compute and print loss\n",
        "    loss = (y_pred - y).pow(2).sum().item() \n",
        "    if t % 1000 == 0: #print an update every 1000 loop\n",
        "        print(t, loss) \n",
        "\n",
        "    # Backprop to compute gradients of w1 and w2 with respect to loss\n",
        "    grad_y_pred = 2.0 * (y_pred - y) #dloss/dy\n",
        "    grad_w2 = h_relu.t().mm(grad_y_pred) #Ypred=Hrelu.W2<=if T exists=> W2=Hrelu.t().Ypred then grad\n",
        "    grad_h_relu = grad_y_pred.mm(w2.t()) #Ypred=Hrelu.W2<=if T exists=> Hrelu=Ypred.W2.t() then grad\n",
        "    grad_h = grad_h_relu.clone() \n",
        "    grad_h[h < 0] = 0 #project x-->x+\n",
        "    grad_w1 = x.t().mm(grad_h) #H=X.W1<=if T exists=> W1=X.t().H then grad\n",
        "    \n",
        "\n",
        "    # Update weights using gradient descent\n",
        "    w1 -= learning_rate * grad_w1\n",
        "    w2 -= learning_rate * grad_w2"
      ],
      "execution_count": 60,
      "outputs": [
        {
          "output_type": "stream",
          "text": [
            "0 118065.8125\n",
            "1000 44.27510452270508\n",
            "2000 21.432743072509766\n",
            "3000 14.417535781860352\n",
            "4000 11.708582878112793\n",
            "5000 10.317084312438965\n",
            "6000 9.417608261108398\n",
            "7000 8.801108360290527\n",
            "8000 8.255293846130371\n",
            "9000 7.794061660766602\n",
            "10000 7.401810169219971\n"
          ],
          "name": "stdout"
        }
      ]
    },
    {
      "cell_type": "markdown",
      "metadata": {
        "id": "xhipoBZvJJz7",
        "colab_type": "text"
      },
      "source": [
        "Compare the first values"
      ]
    },
    {
      "cell_type": "code",
      "metadata": {
        "id": "RDBc5npAAHzN",
        "colab_type": "code",
        "outputId": "0323ffda-f483-4fae-eb50-ef1b0dc58872",
        "colab": {
          "base_uri": "https://localhost:8080/",
          "height": 187
        }
      },
      "source": [
        "print(y[0:5])\n",
        "print(y_pred[0:5])"
      ],
      "execution_count": 61,
      "outputs": [
        {
          "output_type": "stream",
          "text": [
            "tensor([[-1.1617],\n",
            "        [-0.1741],\n",
            "        [ 0.5667],\n",
            "        [ 1.0605],\n",
            "        [ 1.3074]])\n",
            "tensor([[-0.7463],\n",
            "        [-0.0850],\n",
            "        [ 0.5630],\n",
            "        [ 0.9901],\n",
            "        [ 1.4472]])\n"
          ],
          "name": "stdout"
        }
      ]
    },
    {
      "cell_type": "markdown",
      "metadata": {
        "id": "xA3rUb9XIhCc",
        "colab_type": "text"
      },
      "source": [
        "Plot the approximation in 1D"
      ]
    },
    {
      "cell_type": "code",
      "metadata": {
        "id": "q2rQUIq1OiiH",
        "colab_type": "code",
        "colab": {}
      },
      "source": [
        "def plotApproximation(y,y_pred):\n",
        "  plt.figure(figsize=(6, 4))\n",
        "  plt.plot(y.detach().numpy(),'b-')\n",
        "  plt.plot(y_pred.detach().numpy(),'r-*')\n",
        "  plt.xlabel('$x$')\n",
        "  plt.ylabel('$y$')\n",
        "  plt.title('Approximation with the neural network')\n",
        "  plt.show()"
      ],
      "execution_count": 0,
      "outputs": []
    },
    {
      "cell_type": "code",
      "metadata": {
        "id": "ibZbvbe3Otom",
        "colab_type": "code",
        "outputId": "edc03b30-e434-435d-9e81-9532717e18e1",
        "colab": {
          "base_uri": "https://localhost:8080/",
          "height": 295
        }
      },
      "source": [
        "plotApproximation(y,y_pred)"
      ],
      "execution_count": 63,
      "outputs": [
        {
          "output_type": "display_data",
          "data": {
            "image/png": "[encoded data removed]",
            "text/plain": [
              "<Figure size 432x288 with 1 Axes>"
            ]
          },
          "metadata": {
            "tags": []
          }
        }
      ]
    },
    {
      "cell_type": "code",
      "metadata": {
        "id": "VzSSkdQq0sXr",
        "colab_type": "code",
        "outputId": "ca90caea-cb31-4912-9f52-13198d65519d",
        "colab": {
          "base_uri": "https://localhost:8080/",
          "height": 295
        }
      },
      "source": [
        "plt.figure(figsize=(6, 4))\n",
        "plt.plot(y.numpy()-y_pred.numpy())\n",
        "plt.title('Residuals')\n",
        "plt.xlabel('$x$')\n",
        "plt.ylabel('$y-\\hat{y}$')\n",
        "plt.show()"
      ],
      "execution_count": 64,
      "outputs": [
        {
          "output_type": "display_data",
          "data": {
            "image/png": "[encoded data removed]",
            "text/plain": [
              "<Figure size 432x288 with 1 Axes>"
            ]
          },
          "metadata": {
            "tags": []
          }
        }
      ]
    },
    {
      "cell_type": "markdown",
      "metadata": {
        "id": "cKkd4LMWvX93",
        "colab_type": "text"
      },
      "source": [
        "## Neural network with automatic gradient computation (but still the explicit estimate update)\n",
        "\n",
        "\n",
        "A fully-connected ReLU network with one hidden layer, trained to predict y from x\n",
        "by minimizing squared Euclidean distance.\n",
        "\n",
        "This implementation uses the nn package from PyTorch to build the network.\n",
        "PyTorch autograd makes it easy to define computational graphs and take gradients,\n",
        "but raw autograd can be a bit too low-level for defining complex neural networks;\n",
        "this is where the nn package can help. The nn package defines a set of Modules,\n",
        "which you can think of as a neural network layer that has produces output from\n",
        "input and may have some trainable weights."
      ]
    },
    {
      "cell_type": "markdown",
      "metadata": {
        "id": "9aqqho33M21_",
        "colab_type": "text"
      },
      "source": [
        "### Question: use autograd to compute the gradient. You can start from the full implementation of the neural network."
      ]
    },
    {
      "cell_type": "code",
      "metadata": {
        "id": "9gm8w-aJvb0f",
        "colab_type": "code",
        "outputId": "de1b5fff-c03c-4de1-9eec-c49cd646aa98",
        "colab": {
          "base_uri": "https://localhost:8080/",
          "height": 204
        }
      },
      "source": [
        "import torch\n",
        "\n",
        "# N is batch size; D_in is input dimension;\n",
        "# H is hidden dimension; D_out is output dimension.\n",
        "N, D_in, H, D_out = num_samples**2, 2, 100, 1\n",
        "\n",
        "# Use the nn package to define our model as a sequence of layers. nn.Sequential\n",
        "# is a Module which contains other Modules, and applies them in sequence to\n",
        "# produce its output. Each Linear Module computes output from input using a\n",
        "# linear function, and holds internal Tensors for its weight and bias.\n",
        "model = torch.nn.Sequential(\n",
        "    torch.nn.Linear(D_in, H),\n",
        "    torch.nn.ReLU(),\n",
        "    torch.nn.Linear(H, D_out),\n",
        ")\n",
        "\n",
        "# The nn package also contains definitions of popular loss functions; in this\n",
        "# case we will use Mean Squared Error (MSE) as our loss function.\n",
        "loss_fn = torch.nn.MSELoss(reduction='sum')\n",
        "\n",
        "learning_rate = 1e-6\n",
        "for t in range(10001):\n",
        "    # Forward pass: compute predicted y by passing x to the model. Module objects\n",
        "    # override the __call__ operator so you can call them like functions. When\n",
        "    # doing so you pass a Tensor of input data to the Module and it produces\n",
        "    # a Tensor of output data.\n",
        "    y_pred = model(x)\n",
        "\n",
        "    # Compute and print loss. We pass Tensors containing the predicted and true\n",
        "    # values of y, and the loss function returns a Tensor containing the\n",
        "    # loss.\n",
        "    loss = loss_fn(y_pred, y)\n",
        "    if t % 1000 == 0:\n",
        "        print(t, loss.item())\n",
        "        \n",
        "    # Complete here\n",
        "    ## Backprop using autograd - it will compute the grad of loss\n",
        "    ## with respect to all Tensors that have requires_grad=True.\n",
        "    loss.backward()\n",
        "\n",
        "    # Update the weights using gradient descent. Each parameter is a Tensor, so\n",
        "    # we can access its gradients like we did before.\n",
        "    with torch.no_grad():\n",
        "        for param in model.parameters():\n",
        "          # Complete the update\n",
        "            param -= learning_rate * param.grad\n",
        "            \n",
        "            # Manually zero the gradients after updating weights\n",
        "            param.grad.data.zero_()"
      ],
      "execution_count": 65,
      "outputs": [
        {
          "output_type": "stream",
          "text": [
            "0 412.365234375\n",
            "1000 12.543134689331055\n",
            "2000 6.946115016937256\n",
            "3000 5.415310382843018\n",
            "4000 4.805426120758057\n",
            "5000 4.433838367462158\n",
            "6000 4.148762226104736\n",
            "7000 3.9135894775390625\n",
            "8000 3.7147860527038574\n",
            "9000 3.5453708171844482\n",
            "10000 3.400580883026123\n"
          ],
          "name": "stdout"
        }
      ]
    },
    {
      "cell_type": "code",
      "metadata": {
        "id": "j828Mw1pO_H1",
        "colab_type": "code",
        "outputId": "56a3f1d9-af1e-4d8f-b3ef-5701d7e9898d",
        "colab": {
          "base_uri": "https://localhost:8080/",
          "height": 295
        }
      },
      "source": [
        "plotApproximation(y,y_pred)"
      ],
      "execution_count": 66,
      "outputs": [
        {
          "output_type": "display_data",
          "data": {
            "image/png": "[encoded data removed]",
            "text/plain": [
              "<Figure size 432x288 with 1 Axes>"
            ]
          },
          "metadata": {
            "tags": []
          }
        }
      ]
    },
    {
      "cell_type": "markdown",
      "metadata": {
        "id": "xOJBAjFAMc63",
        "colab_type": "text"
      },
      "source": [
        "## Neural network with automatic gradient computation and automatic estimate update\n",
        "\n",
        "A fully-connected ReLU network with one hidden layer, trained to predict y from x\n",
        "by minimizing squared Euclidean distance.\n",
        "\n",
        "This implementation uses the nn package from PyTorch to build the network.\n",
        "\n",
        "Rather than manually updating the weights of the model as we have been doing,\n",
        "we use the optim package to define an Optimizer that will update the weights\n",
        "for us. The optim package defines many optimization algorithms that are commonly\n",
        "used for deep learning, including SGD+momentum, RMSProp, Adam, etc."
      ]
    },
    {
      "cell_type": "markdown",
      "metadata": {
        "id": "auFqUkCrNJPx",
        "colab_type": "text"
      },
      "source": [
        "### Question: use the Torch optimizer to do the gradient descent. You can start from the full implementation of the neural network with automatic differentiation.\n",
        "\n",
        "Details on Optimizer are [here](https://pytorch.org/docs/stable/optim.html)"
      ]
    },
    {
      "cell_type": "code",
      "metadata": {
        "id": "9dRfOhN3vnQN",
        "colab_type": "code",
        "outputId": "e42eaac1-ea0b-4bff-a893-0fcaf4f21de3",
        "colab": {
          "base_uri": "https://localhost:8080/",
          "height": 204
        }
      },
      "source": [
        "import torch\n",
        "\n",
        "# N is batch size; D_in is input dimension;\n",
        "# H is hidden dimension; D_out is output dimension.\n",
        "N, D_in, H, D_out = num_samples**2, 2, 100, 1\n",
        "\n",
        "# Use the nn package to define our model and loss function.\n",
        "model = torch.nn.Sequential(\n",
        "    torch.nn.Linear(D_in, H),\n",
        "    torch.nn.ReLU(),\n",
        "    torch.nn.Linear(H, D_out),\n",
        ")\n",
        "loss_fn = torch.nn.MSELoss(reduction='sum')\n",
        "\n",
        "# Use the optim package to define an Optimizer that will update the weights of\n",
        "# the model for us.\n",
        "learning_rate = 1e-6\n",
        "\n",
        "# Declare something here \n",
        "## Contructing the optimizer with the parameters to optimize. \n",
        "optimizer = torch.optim.SGD(model.parameters(), \n",
        "                      lr=learning_rate, \n",
        "                      momentum=0.9)\n",
        "\n",
        "for t in range(10001):\n",
        "    # Forward pass: compute predicted y by passing x to the model.\n",
        "    y_pred = model(x)\n",
        "\n",
        "    # Compute and print loss.\n",
        "    loss = loss_fn(y_pred, y)\n",
        "    if t % 1000 == 0:\n",
        "        print(t, loss.item())\n",
        "        \n",
        "    # Complete here\n",
        "    ## Before the backward pass, use the optimizer object to \n",
        "    ## zero all of the gradients for the Tensors it will update\n",
        "    optimizer.zero_grad()\n",
        "    \n",
        "    ## backward prop\n",
        "    loss.backward()\n",
        "    \n",
        "    ## step method to update the parameters\n",
        "    optimizer.step()\n",
        "\n"
      ],
      "execution_count": 69,
      "outputs": [
        {
          "output_type": "stream",
          "text": [
            "0 236.02442932128906\n",
            "1000 4.390051364898682\n",
            "2000 2.972238540649414\n",
            "3000 2.608971357345581\n",
            "4000 2.450198173522949\n",
            "5000 2.348001003265381\n",
            "6000 2.2701919078826904\n",
            "7000 2.2036221027374268\n",
            "8000 2.144470691680908\n",
            "9000 2.089712142944336\n",
            "10000 2.039581060409546\n"
          ],
          "name": "stdout"
        }
      ]
    },
    {
      "cell_type": "code",
      "metadata": {
        "id": "l3wESBOnPAzx",
        "colab_type": "code",
        "outputId": "53939113-acbb-438e-ab93-89a132daa54b",
        "colab": {
          "base_uri": "https://localhost:8080/",
          "height": 295
        }
      },
      "source": [
        "plotApproximation(y,y_pred)"
      ],
      "execution_count": 70,
      "outputs": [
        {
          "output_type": "display_data",
          "data": {
            "image/png": "[encoded data removed]",
            "text/plain": [
              "<Figure size 432x288 with 1 Axes>"
            ]
          },
          "metadata": {
            "tags": []
          }
        }
      ]
    },
    {
      "cell_type": "markdown",
      "metadata": {
        "id": "3xSm1sii6d7L",
        "colab_type": "text"
      },
      "source": [
        "Conclusion\n",
        "---\n",
        "\n",
        "---\n",
        "We've implemented a neural network algorithm in PyTorch in 3 ways: \n",
        "- full implementation which meant computing many gradients, \n",
        "- automatic gradient computation, using autograd/backward, but still explicit estimate update (implementing GD for the weights)\n",
        "- automatic gradient computation and estimate update using autograd/backward + optim\n",
        "\n",
        "The value of our loss function after 10,000 iterations decreased as we implemented more automatic algorithms. \n",
        "\n",
        "---"
      ]
    }
  ]
}